{
  "nbformat": 4,
  "nbformat_minor": 0,
  "metadata": {
    "colab": {
      "provenance": []
    },
    "kernelspec": {
      "name": "python3",
      "display_name": "Python 3"
    },
    "language_info": {
      "name": "python"
    }
  },
  "cells": [
    {
      "cell_type": "code",
      "execution_count": 1,
      "metadata": {
        "id": "QylIUBoiGL3n"
      },
      "outputs": [],
      "source": [
        "import os \n",
        "import cv2\n",
        "import numpy as np \n",
        "import matplotlib.pyplot as plt # used for visualization\n",
        "import tensorflow as tf  "
      ]
    },
    {
      "cell_type": "code",
      "source": [
        "# load the dataset directly from tensorflow\n",
        "mnist = tf.keras.datasets.mnist \n",
        "\n",
        "# x data -> handwritten image & y data ->  classification(the digit)\n",
        "(x_train, y_train),(x_test, y_test) = mnist.load_data() # load data function ->already split up into training data and testing data\n",
        "# will return two tuples with training and testing data"
      ],
      "metadata": {
        "id": "XZ6n7RWgL8fo"
      },
      "execution_count": null,
      "outputs": []
    },
    {
      "cell_type": "code",
      "source": [
        "# Normalizing\n",
        "x_train = tf.keras.utils.normalize(x_train, axis=1)\n",
        "x_test = tf.keras.utils.normalize(x_test, axis=1)"
      ],
      "metadata": {
        "id": "JF4kPWMuMLwC"
      },
      "execution_count": null,
      "outputs": []
    },
    {
      "cell_type": "code",
      "source": [
        "# create the neural network model\n",
        "model = tf.keras.models.Sequential()\n",
        "\n",
        "# model.add -> add layers to the model\n",
        "# (28, 28) -> 28*28 because we have 28 pixels and flatten layer turns them into one flat layer(not a grid of 28*28)\n",
        "# it turns them into one big line of 784 pixels instead of having this grid\n",
        "model.add(tf.keras.layers.Flatten(input_shape=(28, 28)))\n",
        "# dense layer -> basic neural network layer\n",
        "# 128 -> number of units\n",
        "# relu -> rectify linear unit it's zero if you're -ve and then goes straight up linearly\n",
        "model.add(tf.keras.layers.Dense(128, activation='relu'))\n",
        "# will add another dense layer\n",
        "model.add(tf.keras.layers.Dense(128, activation='relu'))\n",
        "# add another dense layer with different units and activation function\n",
        "model.add(tf.keras.layers.Dense(10, activation='softmax'))\n",
        "\n",
        "#compile the model\n",
        "model.compile(optimizer='adam', loss='sparse_categorical_crossentropy', metrics=['accuracy'])\n",
        "\n",
        "#once the model is compiled we need to fit(train) the model doing that\n",
        "#epochs -> show how many iterations we are going to see\n",
        "model.fit(x_train, y_train, epochs=3)\n",
        "\n",
        "#now, we have a fully working model\n",
        "#save the model\n",
        "model.save('handwritten.model')\n"
      ],
      "metadata": {
        "colab": {
          "base_uri": "https://localhost:8080/"
        },
        "id": "0ZVrzEnQOJ9S",
        "outputId": "53b9085c-8671-49a4-f3e9-1fc163087d4a"
      },
      "execution_count": null,
      "outputs": [
        {
          "output_type": "stream",
          "name": "stdout",
          "text": [
            "Epoch 1/3\n",
            "1875/1875 [==============================] - 7s 3ms/step - loss: 0.2645 - accuracy: 0.9221\n",
            "Epoch 2/3\n",
            "1875/1875 [==============================] - 6s 3ms/step - loss: 0.1077 - accuracy: 0.9664\n",
            "Epoch 3/3\n",
            "1875/1875 [==============================] - 6s 3ms/step - loss: 0.0739 - accuracy: 0.9768\n"
          ]
        }
      ]
    },
    {
      "cell_type": "code",
      "source": [
        "# load the model\n",
        "model = tf.keras.models.load_model('handwritten.model')"
      ],
      "metadata": {
        "id": "7n98a579Tfh-"
      },
      "execution_count": null,
      "outputs": []
    },
    {
      "cell_type": "code",
      "source": [
        "# evaluate to see how well the model perform on the testing data\n",
        "loss, accuracy = model.evaluate(x_test, y_test)\n",
        "#these metrics tell us how accurate our model is(we want to have a low loss and high accuracy)\n",
        "print(loss)\n",
        "#accuracy -> number between 0 & 1\n",
        "print(accuracy)"
      ],
      "metadata": {
        "colab": {
          "base_uri": "https://localhost:8080/"
        },
        "id": "QVGkNmcsVCR4",
        "outputId": "69ac674c-1633-4987-a4a0-87c872b5f64a"
      },
      "execution_count": null,
      "outputs": [
        {
          "output_type": "stream",
          "name": "stdout",
          "text": [
            "313/313 [==============================] - 1s 2ms/step - loss: 0.0858 - accuracy: 0.9757\n",
            "0.08582749962806702\n",
            "0.9757000207901001\n"
          ]
        }
      ]
    },
    {
      "cell_type": "code",
      "source": [
        "#in this cell we are going to have some handwritten digits and we will feed them into the model to predict the digits\n",
        "#try to read the digits file\n",
        "image_number = 1\n",
        "#while there is a file in the following path we will try to get this file into script\n",
        "while os.path.isfile(f\"digits/digit{image_number}.png\"):\n",
        "  try:\n",
        "    img = cv2.imread(f\"digits/digit{image_number}.png\")[:,:,0] # [:,:,0] -> we're not iterested in colors so we are only going to get the first channel and 0 at the end\n",
        "    img = np.invert(np.array([img]))\n",
        "    prediction = model.predict(img)\n",
        "    #np.argmax -> give the index of the field that has the highest number\n",
        "    print(f\"This digit is probably a {np.argmax(prediction)}\")\n",
        "    #show the image\n",
        "    plt.imshow(img[0], cmap=plt.cm.binary)\n",
        "    plt.show()\n",
        "  except:\n",
        "    print(\"Error!\")\n",
        "  finally:\n",
        "    image_number +=1\n"
      ],
      "metadata": {
        "colab": {
          "base_uri": "https://localhost:8080/",
          "height": 1000
        },
        "id": "knKzBZQBZ9VW",
        "outputId": "6085738d-5bb5-480d-acc6-a3338a2e989e"
      },
      "execution_count": null,
      "outputs": [
        {
          "output_type": "stream",
          "name": "stdout",
          "text": [
            "1/1 [==============================] - 0s 20ms/step\n",
            "This digit is probably a 1\n"
          ]
        },
        {
          "output_type": "display_data",
          "data": {
            "text/plain": [
              "<Figure size 432x288 with 1 Axes>"
            ],
            "image/png": "[encoded data removed]"
          },
          "metadata": {
            "needs_background": "light"
          }
        },
        {
          "output_type": "stream",
          "name": "stdout",
          "text": [
            "1/1 [==============================] - 0s 19ms/step\n",
            "This digit is probably a 2\n"
          ]
        },
        {
          "output_type": "display_data",
          "data": {
            "text/plain": [
              "<Figure size 432x288 with 1 Axes>"
            ],
            "image/png": "[encoded data removed]"
          },
          "metadata": {
            "needs_background": "light"
          }
        },
        {
          "output_type": "stream",
          "name": "stdout",
          "text": [
            "1/1 [==============================] - 0s 20ms/step\n",
            "This digit is probably a 3\n"
          ]
        },
        {
          "output_type": "display_data",
          "data": {
            "text/plain": [
              "<Figure size 432x288 with 1 Axes>"
            ],
            "image/png": "[encoded data removed]"
          },
          "metadata": {
            "needs_background": "light"
          }
        },
        {
          "output_type": "stream",
          "name": "stdout",
          "text": [
            "1/1 [==============================] - 0s 21ms/step\n",
            "This digit is probably a 4\n"
          ]
        },
        {
          "output_type": "display_data",
          "data": {
            "text/plain": [
              "<Figure size 432x288 with 1 Axes>"
            ],
            "image/png": "[encoded data removed]"
          },
          "metadata": {
            "needs_background": "light"
          }
        },
        {
          "output_type": "stream",
          "name": "stdout",
          "text": [
            "1/1 [==============================] - 0s 21ms/step\n",
            "This digit is probably a 5\n"
          ]
        },
        {
          "output_type": "display_data",
          "data": {
            "text/plain": [
              "<Figure size 432x288 with 1 Axes>"
            ],
            "image/png": "[encoded data removed]"
          },
          "metadata": {
            "needs_background": "light"
          }
        },
        {
          "output_type": "stream",
          "name": "stdout",
          "text": [
            "1/1 [==============================] - 0s 20ms/step\n",
            "This digit is probably a 8\n"
          ]
        },
        {
          "output_type": "display_data",
          "data": {
            "text/plain": [
              "<Figure size 432x288 with 1 Axes>"
            ],
            "image/png": "[encoded data removed]"
          },
          "metadata": {
            "needs_background": "light"
          }
        },
        {
          "output_type": "stream",
          "name": "stdout",
          "text": [
            "1/1 [==============================] - 0s 20ms/step\n",
            "This digit is probably a 7\n"
          ]
        },
        {
          "output_type": "display_data",
          "data": {
            "text/plain": [
              "<Figure size 432x288 with 1 Axes>"
            ],
            "image/png": "[encoded data removed]"
          },
          "metadata": {
            "needs_background": "light"
          }
        },
        {
          "output_type": "stream",
          "name": "stdout",
          "text": [
            "1/1 [==============================] - 0s 22ms/step\n",
            "This digit is probably a 8\n"
          ]
        },
        {
          "output_type": "display_data",
          "data": {
            "text/plain": [
              "<Figure size 432x288 with 1 Axes>"
            ],
            "image/png": "[encoded data removed]"
          },
          "metadata": {
            "needs_background": "light"
          }
        }
      ]
    }
  ]
}